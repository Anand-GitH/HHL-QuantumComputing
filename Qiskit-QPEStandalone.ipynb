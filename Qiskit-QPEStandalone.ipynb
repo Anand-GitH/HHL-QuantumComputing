{
 "cells": [
  {
   "cell_type": "code",
   "execution_count": 3,
   "metadata": {},
   "outputs": [],
   "source": [
    "#Load all necessary qiskit and generic libraries\n",
    "\n",
    "from qiskit import Aer, transpile, assemble\n",
    "from qiskit.circuit.library import QFT\n",
    "from qiskit.aqua import QuantumInstance, aqua_globals\n",
    "from qiskit.quantum_info import state_fidelity\n",
    "from qiskit.aqua.algorithms import HHL, NumPyLSsolver\n",
    "from qiskit.aqua.components.eigs import EigsQPE\n",
    "from qiskit.aqua.components.reciprocals import LookupRotation\n",
    "from qiskit.aqua.operators import MatrixOperator\n",
    "from qiskit.aqua.components.initial_states import Custom\n",
    "from qiskit.tools.visualization import circuit_drawer\n",
    "from qiskit import QuantumRegister, ClassicalRegister, QuantumCircuit\n",
    "from qiskit.visualization import plot_histogram\n",
    "from qiskit.tools.visualization import circuit_drawer\n",
    "from qiskit import execute\n",
    "import numpy as np\n",
    "import scipy as sp\n",
    "import matplotlib.pyplot as plt\n",
    "%matplotlib inline\n",
    "\n",
    "\n",
    "#Initliaze Simulator\n",
    "from qiskit import BasicAer\n",
    "backend = BasicAer.get_backend('statevector_simulator')\n"
   ]
  },
  {
   "cell_type": "code",
   "execution_count": 4,
   "metadata": {},
   "outputs": [],
   "source": [
    "def binaryToPhase(binary):\n",
    "    binary=list(binary[::-1])\n",
    "    length = len(binary)\n",
    "    res=0\n",
    "    \n",
    "    for i in range(length):\n",
    "        digit=int(binary.pop())\n",
    "        if digit==1:\n",
    "            res=res+pow(2,i)  \n",
    "    return res"
   ]
  },
  {
   "cell_type": "code",
   "execution_count": 5,
   "metadata": {},
   "outputs": [],
   "source": [
    "#Function for calling the EigsQpe with minimal values and default most of the values\n",
    "\n",
    "def create_eigs(matrix, num_ancillae, negative_evals, evo_time=None):\n",
    "    ne_qfts = [None, None]\n",
    "    if negative_evals:\n",
    "        num_ancillae += 1\n",
    "        ne_qfts = [QFT(num_ancillae - 1), QFT(num_ancillae - 1).inverse()]\n",
    "\n",
    "    return EigsQPE(MatrixOperator(matrix=matrix),\n",
    "                   QFT(num_ancillae).inverse(),\n",
    "                   num_time_slices=1,\n",
    "                   num_ancillae=num_ancillae,\n",
    "                   expansion_mode='trotter',\n",
    "                   expansion_order=1,\n",
    "                   evo_time=evo_time,\n",
    "                   negative_evals=negative_evals,\n",
    "                   ne_qfts=ne_qfts)\n"
   ]
  },
  {
   "cell_type": "code",
   "execution_count": 6,
   "metadata": {},
   "outputs": [],
   "source": [
    "def process_results(circuit,scale,nqbit,cdict,plothist=True):\n",
    "    \n",
    "    ndict={}\n",
    "    \n",
    "    for kval in cdict.keys():\n",
    "        nkey=kval[1:]\n",
    "        ndict[nkey]=cdict[kval]\n",
    "    \n",
    "    print('\\nCounts:',ndict)\n",
    "    print('\\nActual Eigen Value from Circuit:')\n",
    "    \n",
    "    for kval in ndict.keys():\n",
    "        theta=binaryToPhase(kval)\n",
    "        \n",
    "        eigen=(2*np.pi*theta)/((2**nqbit)*scale)\n",
    "        print('Binary:',kval,' Corresponding Eigen Value:',eigen)\n",
    "        \n",
    "    return ndict,circuit"
   ]
  },
  {
   "cell_type": "code",
   "execution_count": 11,
   "metadata": {},
   "outputs": [],
   "source": [
    "def execute_eigs(matrix,nqubits,negativeEigen):\n",
    "    #Initialize circuit\n",
    "    q = QuantumRegister(1)\n",
    "    qc = QuantumCircuit(q)\n",
    "    \n",
    "    # State preparation\n",
    "    qc.x(q[0])\n",
    "    qc.h(q[0])\n",
    "    \n",
    "    e,v=np.linalg.eig(matrix)\n",
    "    print('Expected Eigen Values:',e)\n",
    "    \n",
    "    eigs = create_eigs(matrix, nqubits, negativeEigen)\n",
    "    num_q, num_a = eigs.get_register_sizes()\n",
    "    qc += eigs.construct_circuit(\"circuit\", q)\n",
    "    \n",
    "    qc.draw(fold=-1)\n",
    "    \n",
    "    print(eigs._num_ancillae)\n",
    "    print(eigs._operator.paulis)\n",
    "    print(sum([abs(p[0]) for p in eigs._operator.paulis]))\n",
    "    \n",
    "    scale=eigs.get_scaling()\n",
    "    \n",
    "    print(scale)\n",
    "    \n",
    "    result = execute(qc,backend).result()\n",
    "    counts = result.get_counts()\n",
    "\n",
    "    res=sorted(counts.items(), key = lambda kv:(kv[1], kv[0]),reverse=True)\n",
    "    \n",
    "    \n",
    "    rdict=dict(res)\n",
    "   \n",
    "    return process_results(qc,scale,nqubits,rdict,plothist=True)"
   ]
  },
  {
   "cell_type": "code",
   "execution_count": 12,
   "metadata": {
    "scrolled": true
   },
   "outputs": [
    {
     "name": "stdout",
     "output_type": "stream",
     "text": [
      "Expected Eigen Values: [1.33333333 0.66666667]\n",
      "7\n",
      "[[(1+0j), Pauli(z=[False], x=[False])], [(-0.3333333333333333+0j), Pauli(z=[False], x=[True])]]\n",
      "1.3333333333333333\n",
      "4.675573441475435\n",
      "\n",
      "Counts: {'1111111': 0.499999999999994, '1111110': 0.499999999999994}\n",
      "\n",
      "Actual Eigen Value from Circuit:\n",
      "Binary: 1111111  Corresponding Eigen Value: 1.3333333333333333\n",
      "Binary: 1111110  Corresponding Eigen Value: 0.6614173228346456\n"
     ]
    }
   ],
   "source": [
    "A=[[1,-1/3],[-1/3,1]]\n",
    "count,circuit=execute_eigs(matrix=A,nqubits=7,negativeEigen=False)\n",
    "\n"
   ]
  },
  {
   "cell_type": "code",
   "execution_count": 48,
   "metadata": {},
   "outputs": [
    {
     "data": {
      "image/png": "[encoded data removed]",
      "text/plain": [
       "<Figure size 504x360 with 1 Axes>"
      ]
     },
     "execution_count": 48,
     "metadata": {},
     "output_type": "execute_result"
    }
   ],
   "source": [
    "plot_histogram(count)"
   ]
  },
  {
   "cell_type": "code",
   "execution_count": 49,
   "metadata": {},
   "outputs": [
    {
     "data": {
      "text/html": [
       "<pre style=\"word-wrap: normal;white-space: pre;background: #fff0;line-height: 1.1;font-family: &quot;Courier New&quot;,Courier,monospace\">        ┌───┐┌───┐┌─────────────────────────┐             ┌─────────────────────────┐             ┌─────────────────────────┐             ┌─────────────────────────┐             ┌──────────────────────────┐             ┌──────────────────────────┐             ┌──────────────────────────┐                      \n",
       "q141_0: ┤ X ├┤ H ├┤0                        ├─────────────┤0                        ├─────────────┤0                        ├─────────────┤0                        ├─────────────┤0                         ├─────────────┤0                         ├─────────────┤0                         ├──────────────────────\n",
       "        ├───┤└───┘│  Controlled-Evolution^1 │┌───────────┐│                         │             │                         │             │                         │             │                          │             │                          │             │                          │             ┌───────┐\n",
       "q142_0: ┤ H ├─────┤1                        ├┤ P(4.6756) ├┤  Controlled-Evolution^2 ├─────────────┤                         ├─────────────┤                         ├─────────────┤                          ├─────────────┤                          ├─────────────┤                          ├─────────────┤0      ├\n",
       "        ├───┤     └─────────────────────────┘└───────────┘│                         │┌───────────┐│  Controlled-Evolution^4 │             │                         │             │                          │             │                          │             │                          │             │       │\n",
       "q142_1: ┤ H ├─────────────────────────────────────────────┤1                        ├┤ P(9.3511) ├┤                         ├─────────────┤  Controlled-Evolution^8 ├─────────────┤                          ├─────────────┤                          ├─────────────┤                          ├─────────────┤1      ├\n",
       "        ├───┤                                             └─────────────────────────┘└───────────┘│                         │┌───────────┐│                         │             │  Controlled-Evolution^16 │             │                          │             │                          │             │       │\n",
       "q142_2: ┤ H ├─────────────────────────────────────────────────────────────────────────────────────┤1                        ├┤ P(18.702) ├┤                         ├─────────────┤                          ├─────────────┤  Controlled-Evolution^32 ├─────────────┤                          ├─────────────┤2      ├\n",
       "        ├───┤                                                                                     └─────────────────────────┘└───────────┘│                         │┌───────────┐│                          │             │                          │             │  Controlled-Evolution^64 │             │       │\n",
       "q142_3: ┤ H ├─────────────────────────────────────────────────────────────────────────────────────────────────────────────────────────────┤1                        ├┤ P(37.405) ├┤                          ├─────────────┤                          ├─────────────┤                          ├─────────────┤3 iqft ├\n",
       "        ├───┤                                                                                                                             └─────────────────────────┘└───────────┘│                          │┌───────────┐│                          │             │                          │             │       │\n",
       "q142_4: ┤ H ├─────────────────────────────────────────────────────────────────────────────────────────────────────────────────────────────────────────────────────────────────────┤1                         ├┤ P(74.809) ├┤                          ├─────────────┤                          ├─────────────┤4      ├\n",
       "        ├───┤                                                                                                                                                                     └──────────────────────────┘└───────────┘│                          │┌───────────┐│                          │             │       │\n",
       "q142_5: ┤ H ├──────────────────────────────────────────────────────────────────────────────────────────────────────────────────────────────────────────────────────────────────────────────────────────────────────────────┤1                         ├┤ P(149.62) ├┤                          ├─────────────┤5      ├\n",
       "        ├───┤                                                                                                                                                                                                              └──────────────────────────┘└───────────┘│                          │┌───────────┐│       │\n",
       "q142_6: ┤ H ├───────────────────────────────────────────────────────────────────────────────────────────────────────────────────────────────────────────────────────────────────────────────────────────────────────────────────────────────────────────────────────┤1                         ├┤ P(299.24) ├┤6      ├\n",
       "        └───┘                                                                                                                                                                                                                                                       └──────────────────────────┘└───────────┘└───────┘</pre>"
      ],
      "text/plain": [
       "        ┌───┐┌───┐┌─────────────────────────┐             ┌─────────────────────────┐             ┌─────────────────────────┐             ┌─────────────────────────┐             ┌──────────────────────────┐             ┌──────────────────────────┐             ┌──────────────────────────┐                      \n",
       "q141_0: ┤ X ├┤ H ├┤0                        ├─────────────┤0                        ├─────────────┤0                        ├─────────────┤0                        ├─────────────┤0                         ├─────────────┤0                         ├─────────────┤0                         ├──────────────────────\n",
       "        ├───┤└───┘│  Controlled-Evolution^1 │┌───────────┐│                         │             │                         │             │                         │             │                          │             │                          │             │                          │             ┌───────┐\n",
       "q142_0: ┤ H ├─────┤1                        ├┤ P(4.6756) ├┤  Controlled-Evolution^2 ├─────────────┤                         ├─────────────┤                         ├─────────────┤                          ├─────────────┤                          ├─────────────┤                          ├─────────────┤0      ├\n",
       "        ├───┤     └─────────────────────────┘└───────────┘│                         │┌───────────┐│  Controlled-Evolution^4 │             │                         │             │                          │             │                          │             │                          │             │       │\n",
       "q142_1: ┤ H ├─────────────────────────────────────────────┤1                        ├┤ P(9.3511) ├┤                         ├─────────────┤  Controlled-Evolution^8 ├─────────────┤                          ├─────────────┤                          ├─────────────┤                          ├─────────────┤1      ├\n",
       "        ├───┤                                             └─────────────────────────┘└───────────┘│                         │┌───────────┐│                         │             │  Controlled-Evolution^16 │             │                          │             │                          │             │       │\n",
       "q142_2: ┤ H ├─────────────────────────────────────────────────────────────────────────────────────┤1                        ├┤ P(18.702) ├┤                         ├─────────────┤                          ├─────────────┤  Controlled-Evolution^32 ├─────────────┤                          ├─────────────┤2      ├\n",
       "        ├───┤                                                                                     └─────────────────────────┘└───────────┘│                         │┌───────────┐│                          │             │                          │             │  Controlled-Evolution^64 │             │       │\n",
       "q142_3: ┤ H ├─────────────────────────────────────────────────────────────────────────────────────────────────────────────────────────────┤1                        ├┤ P(37.405) ├┤                          ├─────────────┤                          ├─────────────┤                          ├─────────────┤3 iqft ├\n",
       "        ├───┤                                                                                                                             └─────────────────────────┘└───────────┘│                          │┌───────────┐│                          │             │                          │             │       │\n",
       "q142_4: ┤ H ├─────────────────────────────────────────────────────────────────────────────────────────────────────────────────────────────────────────────────────────────────────┤1                         ├┤ P(74.809) ├┤                          ├─────────────┤                          ├─────────────┤4      ├\n",
       "        ├───┤                                                                                                                                                                     └──────────────────────────┘└───────────┘│                          │┌───────────┐│                          │             │       │\n",
       "q142_5: ┤ H ├──────────────────────────────────────────────────────────────────────────────────────────────────────────────────────────────────────────────────────────────────────────────────────────────────────────────┤1                         ├┤ P(149.62) ├┤                          ├─────────────┤5      ├\n",
       "        ├───┤                                                                                                                                                                                                              └──────────────────────────┘└───────────┘│                          │┌───────────┐│       │\n",
       "q142_6: ┤ H ├───────────────────────────────────────────────────────────────────────────────────────────────────────────────────────────────────────────────────────────────────────────────────────────────────────────────────────────────────────────────────────┤1                         ├┤ P(299.24) ├┤6      ├\n",
       "        └───┘                                                                                                                                                                                                                                                       └──────────────────────────┘└───────────┘└───────┘"
      ]
     },
     "execution_count": 49,
     "metadata": {},
     "output_type": "execute_result"
    }
   ],
   "source": [
    "circuit.draw(fold=-1)"
   ]
  },
  {
   "cell_type": "code",
   "execution_count": 50,
   "metadata": {},
   "outputs": [
    {
     "name": "stdout",
     "output_type": "stream",
     "text": [
      "Matrix:\n",
      " [[1, -0.5], [-0.5, 1]] \n",
      "\n",
      "Expected Eigen Values: [1.5 0.5]\n",
      "\n",
      "Counts: {'11': 0.500000000000001, '10': 0.500000000000001}\n",
      "\n",
      "Actual Eigen Value from Circuit:\n",
      "Binary: 11  Corresponding Eigen Value: 1.5\n",
      "Binary: 10  Corresponding Eigen Value: 0.5\n"
     ]
    }
   ],
   "source": [
    "A=[[1,-1/2],[-1/2,1]]\n",
    "\n",
    "print('Matrix:\\n',A,'\\n')\n",
    "count,circuit=execute_eigs(matrix=A,nqubits=2,negativeEigen=False)"
   ]
  },
  {
   "cell_type": "code",
   "execution_count": 51,
   "metadata": {},
   "outputs": [
    {
     "data": {
      "image/png": "[encoded data removed]",
      "text/plain": [
       "<Figure size 504x360 with 1 Axes>"
      ]
     },
     "execution_count": 51,
     "metadata": {},
     "output_type": "execute_result"
    }
   ],
   "source": [
    "plot_histogram(count)"
   ]
  },
  {
   "cell_type": "code",
   "execution_count": 52,
   "metadata": {},
   "outputs": [
    {
     "data": {
      "text/html": [
       "<pre style=\"word-wrap: normal;white-space: pre;background: #fff0;line-height: 1.1;font-family: &quot;Courier New&quot;,Courier,monospace\">        ┌───┐┌───┐┌─────────────────────────┐        ┌─────────────────────────┐                  \n",
       "q162_0: ┤ X ├┤ H ├┤0                        ├────────┤0                        ├──────────────────\n",
       "        ├───┤└───┘│  Controlled-Evolution^1 │┌──────┐│                         │         ┌───────┐\n",
       "q163_0: ┤ H ├─────┤1                        ├┤ P(π) ├┤  Controlled-Evolution^2 ├─────────┤0      ├\n",
       "        ├───┤     └─────────────────────────┘└──────┘│                         │┌───────┐│  iqft │\n",
       "q163_1: ┤ H ├────────────────────────────────────────┤1                        ├┤ P(2π) ├┤1      ├\n",
       "        └───┘                                        └─────────────────────────┘└───────┘└───────┘</pre>"
      ],
      "text/plain": [
       "        ┌───┐┌───┐┌─────────────────────────┐        ┌─────────────────────────┐                  \n",
       "q162_0: ┤ X ├┤ H ├┤0                        ├────────┤0                        ├──────────────────\n",
       "        ├───┤└───┘│  Controlled-Evolution^1 │┌──────┐│                         │         ┌───────┐\n",
       "q163_0: ┤ H ├─────┤1                        ├┤ P(π) ├┤  Controlled-Evolution^2 ├─────────┤0      ├\n",
       "        ├───┤     └─────────────────────────┘└──────┘│                         │┌───────┐│  iqft │\n",
       "q163_1: ┤ H ├────────────────────────────────────────┤1                        ├┤ P(2π) ├┤1      ├\n",
       "        └───┘                                        └─────────────────────────┘└───────┘└───────┘"
      ]
     },
     "execution_count": 52,
     "metadata": {},
     "output_type": "execute_result"
    }
   ],
   "source": [
    "circuit.draw(fold=-1)"
   ]
  },
  {
   "cell_type": "code",
   "execution_count": 53,
   "metadata": {},
   "outputs": [
    {
     "name": "stdout",
     "output_type": "stream",
     "text": [
      "Matrix:\n",
      " [[1.5, 0.5], [0.5, 1.5]] \n",
      "\n",
      "Expected Eigen Values: [2. 1.]\n",
      "\n",
      "Counts: {'11': 0.036611652351682, '10': 0.036611652351682, '01': 0.036611652351682, '00': 0.036611652351682}\n",
      "\n",
      "Actual Eigen Value from Circuit:\n",
      "Binary: 11  Corresponding Eigen Value: 2.0\n",
      "Binary: 10  Corresponding Eigen Value: 0.6666666666666666\n",
      "Binary: 01  Corresponding Eigen Value: 1.3333333333333333\n",
      "Binary: 00  Corresponding Eigen Value: 0.0\n"
     ]
    }
   ],
   "source": [
    "A = [[1.5, 0.5], [0.5, 1.5]]\n",
    "\n",
    "print('Matrix:\\n',A,'\\n')\n",
    "count,circuit=execute_eigs(matrix=A,nqubits=2,negativeEigen=False)"
   ]
  },
  {
   "cell_type": "code",
   "execution_count": 54,
   "metadata": {},
   "outputs": [
    {
     "data": {
      "image/png": "[encoded data removed]",
      "text/plain": [
       "<Figure size 504x360 with 1 Axes>"
      ]
     },
     "execution_count": 54,
     "metadata": {},
     "output_type": "execute_result"
    }
   ],
   "source": [
    "plot_histogram(count)"
   ]
  },
  {
   "cell_type": "code",
   "execution_count": 55,
   "metadata": {},
   "outputs": [
    {
     "name": "stdout",
     "output_type": "stream",
     "text": [
      "Matrix:\n",
      " [[1, 1], [0, 2]] \n",
      "\n",
      "Expected Eigen Values: [1. 2.]\n",
      "\n",
      "Counts: {'00': 0.03125, '01': 0.005361652351682, '11': 0.005361652351682, '10': 0.016084957055045}\n",
      "\n",
      "Actual Eigen Value from Circuit:\n",
      "Binary: 00  Corresponding Eigen Value: 0.0\n",
      "Binary: 01  Corresponding Eigen Value: 2.0\n",
      "Binary: 11  Corresponding Eigen Value: 3.0\n",
      "Binary: 10  Corresponding Eigen Value: 1.0\n"
     ]
    }
   ],
   "source": [
    "A = [[1, 1], [0, 2]]\n",
    "\n",
    "print('Matrix:\\n',A,'\\n')\n",
    "count,circuit=execute_eigs(matrix=A,nqubits=2,negativeEigen=False)"
   ]
  },
  {
   "cell_type": "code",
   "execution_count": 56,
   "metadata": {},
   "outputs": [
    {
     "name": "stdout",
     "output_type": "stream",
     "text": [
      "Matrix:\n",
      " [[1.5, 0], [0, 0.5]] \n",
      "\n",
      "Expected Eigen Values: [1.5 0.5]\n",
      "\n",
      "Counts: {'10': 0.5, '01': 0.5}\n",
      "\n",
      "Actual Eigen Value from Circuit:\n",
      "Binary: 10  Corresponding Eigen Value: 0.5\n",
      "Binary: 01  Corresponding Eigen Value: 1.0\n"
     ]
    }
   ],
   "source": [
    "A = [[1.5, 0], [0, 0.5]]\n",
    "\n",
    "print('Matrix:\\n',A,'\\n')\n",
    "count,circuit=execute_eigs(matrix=A,nqubits=2,negativeEigen=False)"
   ]
  },
  {
   "cell_type": "code",
   "execution_count": 57,
   "metadata": {},
   "outputs": [
    {
     "name": "stdout",
     "output_type": "stream",
     "text": [
      "Matrix:\n",
      " [[1, -0.5], [-0.5, 1]] \n",
      "\n",
      "Expected Eigen Values: [1.5 0.5]\n",
      "\n",
      "Counts: {'11': 0.500000000000001, '10': 0.500000000000001}\n",
      "\n",
      "Actual Eigen Value from Circuit:\n",
      "Binary: 11  Corresponding Eigen Value: 1.5\n",
      "Binary: 10  Corresponding Eigen Value: 0.5\n"
     ]
    }
   ],
   "source": [
    "A = [[1, -0.5], [-0.5, 1]]\n",
    "\n",
    "print('Matrix:\\n',A,'\\n')\n",
    "count,circuit=execute_eigs(matrix=A,nqubits=2,negativeEigen=False)"
   ]
  },
  {
   "cell_type": "code",
   "execution_count": 58,
   "metadata": {},
   "outputs": [
    {
     "name": "stdout",
     "output_type": "stream",
     "text": [
      "Matrix:\n",
      " [[0.69, 0.49], [0.49, 0.92]] \n",
      "\n",
      "Expected Eigen Values: [0.30168598 1.30831402]\n",
      "\n",
      "Counts: {'101': 0.023635946863532, '100': 0.025764378057297, '001': 0.029359074130578, '000': 0.01045216143069, '110': 0.003574353083768, '111': 0.005822658642364, '010': 0.012212043999822, '011': 0.004488579357237}\n",
      "\n",
      "Actual Eigen Value from Circuit:\n",
      "Binary: 101  Corresponding Eigen Value: 1.0071428571428571\n",
      "Binary: 100  Corresponding Eigen Value: 0.20142857142857143\n",
      "Binary: 001  Corresponding Eigen Value: 0.8057142857142857\n",
      "Binary: 000  Corresponding Eigen Value: 0.0\n",
      "Binary: 110  Corresponding Eigen Value: 0.6042857142857142\n",
      "Binary: 111  Corresponding Eigen Value: 1.41\n",
      "Binary: 010  Corresponding Eigen Value: 0.40285714285714286\n",
      "Binary: 011  Corresponding Eigen Value: 1.2085714285714284\n"
     ]
    }
   ],
   "source": [
    "A = [[0.69, 0.49], [0.49, 0.92]]\n",
    "\n",
    "print('Matrix:\\n',A,'\\n')\n",
    "count,circuit=execute_eigs(matrix=A,nqubits=3,negativeEigen=False)"
   ]
  },
  {
   "cell_type": "markdown",
   "metadata": {},
   "source": [
    "## QPE for finite difference matrix 2*2"
   ]
  },
  {
   "cell_type": "code",
   "execution_count": 60,
   "metadata": {},
   "outputs": [
    {
     "name": "stdout",
     "output_type": "stream",
     "text": [
      "Matrix:\n",
      " [[2, -1], [-1, 2]] \n",
      "\n",
      "Expected Eigen Values: [3. 1.]\n",
      "\n",
      "Counts: {'11': 0.500000000000001, '10': 0.500000000000001}\n",
      "\n",
      "Actual Eigen Value from Circuit:\n",
      "Binary: 11  Corresponding Eigen Value: 3.0\n",
      "Binary: 10  Corresponding Eigen Value: 1.0\n"
     ]
    },
    {
     "data": {
      "image/png": "[encoded data removed]",
      "text/plain": [
       "<Figure size 504x360 with 1 Axes>"
      ]
     },
     "execution_count": 60,
     "metadata": {},
     "output_type": "execute_result"
    }
   ],
   "source": [
    "A = [[2, -1], [-1, 2]]\n",
    "\n",
    "print('Matrix:\\n',A,'\\n')\n",
    "count,circuit=execute_eigs(matrix=A,nqubits=2,negativeEigen=False)\n",
    "plot_histogram(count)"
   ]
  }
 ],
 "metadata": {
  "kernelspec": {
   "display_name": "Python 3",
   "language": "python",
   "name": "python3"
  },
  "language_info": {
   "codemirror_mode": {
    "name": "ipython",
    "version": 3
   },
   "file_extension": ".py",
   "mimetype": "text/x-python",
   "name": "python",
   "nbconvert_exporter": "python",
   "pygments_lexer": "ipython3",
   "version": "3.7.4"
  }
 },
 "nbformat": 4,
 "nbformat_minor": 2
}
