{
 "cells": [
  {
   "cell_type": "code",
   "execution_count": 7,
   "metadata": {},
   "outputs": [],
   "source": [
    "from qiskit import Aer, transpile, assemble\n",
    "from qiskit.circuit.library import QFT\n",
    "from qiskit.aqua import QuantumInstance, aqua_globals\n",
    "from qiskit.quantum_info import state_fidelity\n",
    "from qiskit.aqua.algorithms import HHL, NumPyLSsolver\n",
    "from qiskit.aqua.components.eigs import EigsQPE\n",
    "from qiskit.aqua.components.reciprocals import LookupRotation\n",
    "from qiskit.aqua.operators import MatrixOperator\n",
    "from qiskit.aqua.components.initial_states import Custom\n",
    "import numpy as np\n",
    "from qiskit import QuantumRegister, ClassicalRegister, QuantumCircuit\n",
    "from qiskit import BasicAer\n",
    "from qiskit import execute\n",
    "%matplotlib inline "
   ]
  },
  {
   "cell_type": "code",
   "execution_count": 8,
   "metadata": {},
   "outputs": [],
   "source": [
    "def create_eigs(matrix, num_auxiliary, num_time_slices, negative_evals):\n",
    "    ne_qfts = [None, None]\n",
    "    if negative_evals:\n",
    "        num_auxiliary += 1\n",
    "        ne_qfts = [QFT(num_auxiliary - 1), QFT(num_auxiliary - 1).inverse()]\n",
    "\n",
    "    return EigsQPE(MatrixOperator(matrix=matrix),\n",
    "                   QFT(num_auxiliary).inverse(),\n",
    "                   num_time_slices=num_time_slices,\n",
    "                   num_ancillae=num_auxiliary,\n",
    "                   expansion_mode='suzuki',\n",
    "                   expansion_order=2,\n",
    "                   evo_time=None,  # This is t, can set to: np.pi*3/4\n",
    "                   negative_evals=negative_evals,\n",
    "                   ne_qfts=ne_qfts)"
   ]
  },
  {
   "cell_type": "code",
   "execution_count": 9,
   "metadata": {},
   "outputs": [
    {
     "name": "stdout",
     "output_type": "stream",
     "text": [
      "Input Matrix: [[1, -0.3333333333333333], [-0.3333333333333333, 1]]\n",
      "\n",
      "Expected Eigen Values: [1.33333333 0.66666667]\n"
     ]
    }
   ],
   "source": [
    "matrix = [[1, -1/3], [-1/3, 1]]\n",
    "vector = [1, 0]\n",
    "\n",
    "print('Input Matrix:',matrix)\n",
    "e,v=np.linalg.eig(matrix)\n",
    "\n",
    "print('\\nExpected Eigen Values:',e)"
   ]
  },
  {
   "cell_type": "code",
   "execution_count": 11,
   "metadata": {},
   "outputs": [
    {
     "name": "stdout",
     "output_type": "stream",
     "text": [
      "Matrix after resize:\n",
      " [[ 1.         -0.33333333]\n",
      " [-0.33333333  1.        ]]\n"
     ]
    },
    {
     "data": {
      "text/plain": [
       "<qiskit.circuit.instructionset.InstructionSet at 0x230febd3a08>"
      ]
     },
     "execution_count": 11,
     "metadata": {},
     "output_type": "execute_result"
    }
   ],
   "source": [
    "orig_size = len(vector)\n",
    "matrix, vector, truncate_powerdim, truncate_hermitian = HHL.matrix_resize(matrix, vector)\n",
    "\n",
    "# Initialize eigenvalue finding module\n",
    "print('Matrix after resize:\\n',matrix)\n",
    "eigs = create_eigs(matrix, 3, 50, False)\n",
    "num_q, num_a = eigs.get_register_sizes()\n",
    "\n",
    "q = QuantumRegister(num_q, name=\"io\")\n",
    "qc = QuantumCircuit(q)\n",
    "\n",
    "qc += eigs.construct_circuit(\"circuit\", q)\n",
    "a = eigs._output_register\n",
    "\n",
    "\n",
    "c = ClassicalRegister(3)\n",
    "qc.add_register(c)\n",
    "qc.measure(a, c)\n"
   ]
  },
  {
   "cell_type": "code",
   "execution_count": 12,
   "metadata": {},
   "outputs": [
    {
     "name": "stdout",
     "output_type": "stream",
     "text": [
      "\n",
      "\n",
      "\n",
      "Circuit:\n"
     ]
    },
    {
     "data": {
      "image/png": "[encoded data removed]",
      "text/plain": [
       "<Figure size 1316.99x325.08 with 1 Axes>"
      ]
     },
     "execution_count": 12,
     "metadata": {},
     "output_type": "execute_result"
    }
   ],
   "source": [
    "print('\\n\\n\\nCircuit:')\n",
    "qc.draw(output='mpl')"
   ]
  },
  {
   "cell_type": "code",
   "execution_count": 13,
   "metadata": {},
   "outputs": [
    {
     "name": "stdout",
     "output_type": "stream",
     "text": [
      "\n",
      "\n",
      "Result: Result(backend_name='qasm_simulator', backend_version='2.0.0', qobj_id='951e45ff-723e-491a-9782-f31e4d794e3e', job_id='7007dfd5-74a6-4d45-b27e-43c0ffa62080', success=True, results=[ExperimentResult(shots=4321, success=True, meas_level=MeasLevel.CLASSIFIED, data=ExperimentResultData(counts={'0x1': 852, '0x2': 98, '0x7': 2246, '0x6': 882, '0x3': 42, '0x0': 41, '0x4': 49, '0x5': 111}), header=QobjExperimentHeader(clbit_labels=[['c3', 0], ['c3', 1], ['c3', 2]], creg_sizes=[['c3', 3]], global_phase=0.0, memory_slots=3, n_qubits=4, name='circuit84277', qreg_sizes=[['io', 1], ['q36', 3]], qubit_labels=[['io', 0], ['q36', 0], ['q36', 1], ['q36', 2]]), status=DONE, name='circuit84277', seed_simulator=1390824950, time_taken=0.3964273929595947)], status=COMPLETED, status=QobjHeader(backend_name='qasm_simulator', backend_version='2.0.0'), time_taken=0.3964273929595947)\n",
      "\n",
      "\n",
      "Count: {'001': 852, '010': 98, '111': 2246, '110': 882, '011': 42, '000': 41, '100': 49, '101': 111}\n"
     ]
    }
   ],
   "source": [
    "#Simulate circuit\n",
    "backend = BasicAer.get_backend('qasm_simulator')\n",
    "job = execute(qc,backend,shots=4321)\n",
    "result= job.result()\n",
    "\n",
    "\n",
    "counts = result.get_counts()\n",
    "\n",
    "print('\\n\\nResult:',result)\n",
    "print('\\n\\nCount:',counts)"
   ]
  },
  {
   "cell_type": "code",
   "execution_count": null,
   "metadata": {},
   "outputs": [],
   "source": []
  }
 ],
 "metadata": {
  "kernelspec": {
   "display_name": "Python 3",
   "language": "python",
   "name": "python3"
  },
  "language_info": {
   "codemirror_mode": {
    "name": "ipython",
    "version": 3
   },
   "file_extension": ".py",
   "mimetype": "text/x-python",
   "name": "python",
   "nbconvert_exporter": "python",
   "pygments_lexer": "ipython3",
   "version": "3.7.4"
  }
 },
 "nbformat": 4,
 "nbformat_minor": 2
}
