{
 "cells": [
  {
   "cell_type": "markdown",
   "metadata": {},
   "source": [
    "## Before we start getting into Amazon Braket\n",
    " \n",
    "#### We have to understand the gates supported by amazon local simulator as it varies by different providers\n",
    "#### But standard qauntum quantum gates remains same across different providers\n",
    "       "
   ]
  },
  {
   "cell_type": "code",
   "execution_count": 1,
   "metadata": {},
   "outputs": [
    {
     "name": "stdout",
     "output_type": "stream",
     "text": [
      "['CCNot', 'CNot', 'CPhaseShift', 'CPhaseShift00', 'CPhaseShift01', 'CPhaseShift10', 'CSwap', 'CY', 'CZ', 'H', 'I', 'ISwap', 'PSwap', 'PhaseShift', 'Rx', 'Ry', 'Rz', 'S', 'Si', 'Swap', 'T', 'Ti', 'Unitary', 'V', 'Vi', 'X', 'XX', 'XY', 'Y', 'YY', 'Z', 'ZZ']\n"
     ]
    }
   ],
   "source": [
    "import string\n",
    "from braket.circuits import Gate\n",
    "\n",
    "# print all available gates in Amazon Braket\n",
    "gate_set = [attr for attr in dir(Gate) if attr[0] in string.ascii_uppercase]\n",
    "print(gate_set)"
   ]
  },
  {
   "cell_type": "markdown",
   "metadata": {},
   "source": [
    "#### Demo of Superposition - Hadamard gate\n",
    "\n",
    "A hadamard gate is used to superpositioning of the qubit - converting a classical state to quantum state \n",
    "0 to |0> |1> state with amplitude for each state\n",
    "\n",
    "With this example - one can see the entanglement and how quantum gates can be used as classic gates \n",
    "demonstration of X gate."
   ]
  },
  {
   "cell_type": "code",
   "execution_count": 52,
   "metadata": {},
   "outputs": [
    {
     "name": "stdout",
     "output_type": "stream",
     "text": [
      "T  : |0|Result Types|\n",
      "                     \n",
      "q0 : -H-Probability--\n",
      "        |            \n",
      "q1 : -X-Probability--\n",
      "\n",
      "T  : |0|Result Types|\n",
      "Results:\n",
      "[0, 1]\n",
      "Counter({'01': 529, '11': 471})\n",
      "{'01': 0.529, '11': 0.471}\n"
     ]
    },
    {
     "data": {
      "image/png": "[encoded data removed]",
      "text/plain": [
       "<Figure size 432x288 with 1 Axes>"
      ]
     },
     "metadata": {
      "needs_background": "light"
     },
     "output_type": "display_data"
    }
   ],
   "source": [
    "from braket.circuits import Circuit\n",
    "from braket.devices import LocalSimulator\n",
    "import matplotlib.pyplot as plt\n",
    "\n",
    "#Building Circuit\n",
    "circ=Circuit()\n",
    "circ.h(0)\n",
    "circ.x(1)\n",
    "\n",
    "#circ.x(0).x(0)\n",
    "\n",
    "circ.probability()\n",
    "print(circ)\n",
    "\n",
    "#Intializing Device to run the circuit and extract results\n",
    "device = LocalSimulator()\n",
    "task=device.run(circ,shots=1000) #pass circuit and number of iterations\n",
    "results=task.result()\n",
    "\n",
    "# get measurement results\n",
    "measurements = results.measurements\n",
    "measured_qubits = results.measured_qubits\n",
    "measurement_counts = results.measurement_counts\n",
    "measurement_probabilities = results.measurement_probabilities\n",
    "\n",
    "print('Results:')\n",
    "print(measured_qubits)\n",
    "print(measurement_counts)\n",
    "print(measurement_probabilities)\n",
    "  \n",
    "probs_values = results.values[0]\n",
    "# bitstrings\n",
    "format_bitstring = '{0:0' + str(2) + 'b}'\n",
    "bitstring_keys = [format_bitstring.format(ii) for ii in range(2**2)]\n",
    "    \n",
    "# plot probabalities\n",
    "plt.bar(bitstring_keys, probs_values);\n",
    "plt.xlabel('bitstrings');\n",
    "plt.ylabel('probability');\n",
    "plt.xticks(rotation=90);"
   ]
  },
  {
   "cell_type": "markdown",
   "metadata": {},
   "source": [
    "### Building quantum circuits incremental in three ways in Braket\n",
    "* Using . and append gates and operations\n",
    "* Using keyword instruction\n",
    "* Using register keyword - to register a method which returns circuit under Circuit class - Increases modularity\n",
    "\n"
   ]
  },
  {
   "cell_type": "code",
   "execution_count": 50,
   "metadata": {},
   "outputs": [
    {
     "name": "stdout",
     "output_type": "stream",
     "text": [
      "T  : |0|1|2|\n",
      "            \n",
      "q0 : -X-X-H-\n",
      "\n",
      "T  : |0|1|2|\n",
      "Amplitude(state=['0', '1'])\n",
      "{'0': (0.7071067811865475+0j), '1': (0.7071067811865475+0j)}\n"
     ]
    }
   ],
   "source": [
    "#Building incremental circuit using . \n",
    "from braket.circuits import Circuit\n",
    "\n",
    "circ=Circuit()\n",
    "\n",
    "circ.x(0).x(0).h(0)\n",
    "\n",
    "circ.amplitude(state=[\"0\",\"1\"])\n",
    "print(circ)\n",
    "\n",
    "print(circ.result_types[0])\n",
    "\n",
    "task=device.run(circ,shots=0)\n",
    "results=task.result()\n",
    "\n",
    "print(results.values[0])\n",
    "\n",
    "#Amplitude and State vector can be observed only when shots=0"
   ]
  },
  {
   "cell_type": "code",
   "execution_count": 58,
   "metadata": {},
   "outputs": [
    {
     "name": "stdout",
     "output_type": "stream",
     "text": [
      "T  : |0|1|\n",
      "          \n",
      "q0 : -X-H-\n",
      "\n",
      "T  : |0|1|\n"
     ]
    }
   ],
   "source": [
    "#Building incremental cicuit using instruction keyword\n",
    "\n",
    "from braket.circuits import Gate,Instruction\n",
    "\n",
    "circ=Circuit()\n",
    "\n",
    "instr1=Instruction(Gate.X(),0)\n",
    "instr2=Instruction(Gate.H(),0)\n",
    "\n",
    "circ.add_instruction(instr1)\n",
    "circ.add_instruction(instr2)\n",
    "\n",
    "print(circ)\n"
   ]
  },
  {
   "cell_type": "code",
   "execution_count": 70,
   "metadata": {},
   "outputs": [
    {
     "name": "stdout",
     "output_type": "stream",
     "text": [
      "Before:\n",
      " \n",
      "After:\n",
      " T  : |0|1|\n",
      "          \n",
      "q0 : -X-H-\n",
      "          \n",
      "q1 : -X-H-\n",
      "\n",
      "T  : |0|1|\n"
     ]
    }
   ],
   "source": [
    "#Building using subroutine\n",
    "from braket.circuits import circuit\n",
    "\n",
    "@circuit.subroutine(register=True)\n",
    "def superimposed_x(target):\n",
    "    \n",
    "    circ=Circuit()\n",
    "    \n",
    "    circ.x(target)\n",
    "    circ.h(target)\n",
    "    \n",
    "    return circ\n",
    "\n",
    "#Building Circuit using subroutine\n",
    "circ=Circuit()\n",
    "print('Before:\\n',circ)\n",
    "    \n",
    "circ.superimposed_x(1)\n",
    "circ.superimposed_x(0)\n",
    "    \n",
    "print('After:\\n',circ)"
   ]
  },
  {
   "cell_type": "markdown",
   "metadata": {},
   "source": [
    "###### Demonstrations of some of the gates \n",
    "###### Gates are two types-  single qubit (applied only on one qubit) and multi qubits(applied on more than one qubit)\n",
    "\n",
    "* CNOT - Controlled NOT gate \n",
    "* CCNOT - Toffoli gate (Universal Reversible Gates)\n",
    "* Swap gates - Swapping values between two qubits \n",
    "* Phase shift gates - Rx,Ry,Rz - rotation by theta radians\n",
    "\n",
    "\n",
    "###### Self defined Unitary gates can also be used as shown below\n",
    "import numpy as np <br>\n",
    "my_unitary = np.array([[0, 1],[1, 0]])  <br>\n",
    "circ.unitary(matrix=my_unitary, targets=[0]) <br>\n"
   ]
  },
  {
   "cell_type": "code",
   "execution_count": 88,
   "metadata": {},
   "outputs": [
    {
     "name": "stdout",
     "output_type": "stream",
     "text": [
      "T  : |0|1|Result Types|\n",
      "                       \n",
      "q0 : ---X-Probability--\n",
      "        | |            \n",
      "q1 : -X-C-Probability--\n",
      "\n",
      "T  : |0|1|Result Types|\n",
      "{'11': 1.0}\n"
     ]
    },
    {
     "data": {
      "image/png": "[encoded data removed]",
      "text/plain": [
       "<Figure size 432x288 with 1 Axes>"
      ]
     },
     "metadata": {
      "needs_background": "light"
     },
     "output_type": "display_data"
    }
   ],
   "source": [
    "#Demonstration of CNOT - on calssic bits and on qubits\n",
    "circ=Circuit()\n",
    "\n",
    "circ.x(1)\n",
    "#circ.h(0)\n",
    "circ.cnot(1,0)\n",
    "circ.probability()\n",
    "\n",
    "print(circ)\n",
    "\n",
    "task=device.run(circ,shots=1000)\n",
    "results=task.result()\n",
    "\n",
    "probs_values = results.values[0]\n",
    "print(results.measurement_probabilities)\n",
    "\n",
    "\n",
    "# bitstrings\n",
    "format_bitstring = '{0:0' + str(2) + 'b}'\n",
    "bitstring_keys = [format_bitstring.format(ii) for ii in range(2**2)]\n",
    "    \n",
    "# plot probabalities\n",
    "plt.bar(bitstring_keys, probs_values);\n",
    "plt.xlabel('bitstrings');\n",
    "plt.ylabel('probability');\n",
    "plt.xticks(rotation=90);"
   ]
  },
  {
   "cell_type": "code",
   "execution_count": 95,
   "metadata": {},
   "outputs": [
    {
     "name": "stdout",
     "output_type": "stream",
     "text": [
      "T  : |0|1|\n",
      "          \n",
      "q0 : -H-C-\n",
      "        | \n",
      "q1 : -H-C-\n",
      "        | \n",
      "q2 : ---X-\n",
      "\n",
      "T  : |0|1|\n",
      "{'111': 0.245, '100': 0.255, '000': 0.25, '010': 0.25}\n"
     ]
    },
    {
     "data": {
      "image/png": "[encoded data removed]",
      "text/plain": [
       "<Figure size 432x288 with 1 Axes>"
      ]
     },
     "metadata": {
      "needs_background": "light"
     },
     "output_type": "display_data"
    }
   ],
   "source": [
    "#Demonstration of CNOT - on calssic bits and on qubits - multigate \n",
    "\n",
    "circ=Circuit()\n",
    "\n",
    "circ.h(0)\n",
    "#circ.x(0)\n",
    "circ.h(1)\n",
    "#circ.x(1)\n",
    "circ.ccnot(0,1,2)\n",
    "\n",
    "circ.probability()\n",
    "print(circ)\n",
    "\n",
    "task=device.run(circ,shots=1000)\n",
    "results=task.result()\n",
    "\n",
    "probs_values = results.values[0]\n",
    "print(results.measurement_probabilities)\n",
    "\n",
    "# bitstrings\n",
    "format_bitstring = '{0:0' + str(3) + 'b}'\n",
    "bitstring_keys = [format_bitstring.format(ii) for ii in range(2**3)]\n",
    "    \n",
    "# plot probabalities\n",
    "plt.bar(bitstring_keys, probs_values);\n",
    "plt.xlabel('bitstrings');\n",
    "plt.ylabel('probability');\n",
    "plt.xticks(rotation=90);"
   ]
  },
  {
   "cell_type": "code",
   "execution_count": 105,
   "metadata": {},
   "outputs": [
    {
     "name": "stdout",
     "output_type": "stream",
     "text": [
      "T  : |0| 1  |\n",
      "             \n",
      "q0 : -X-SWAP-\n",
      "        |    \n",
      "q1 : ---SWAP-\n",
      "\n",
      "T  : |0| 1  |\n",
      "{'01': 1.0}\n"
     ]
    },
    {
     "data": {
      "image/png": "[encoded data removed]",
      "text/plain": [
       "<Figure size 432x288 with 1 Axes>"
      ]
     },
     "metadata": {
      "needs_background": "light"
     },
     "output_type": "display_data"
    }
   ],
   "source": [
    "#Swap gate to swap values of qubits\n",
    "\n",
    "circ=Circuit()\n",
    "\n",
    "circ.x(0)\n",
    "#circ.h(0)\n",
    "circ.swap(0,1)\n",
    "\n",
    "circ.probability()\n",
    "print(circ)\n",
    "\n",
    "task=device.run(circ,shots=1000)\n",
    "results=task.result()\n",
    "\n",
    "probs_values = results.values[0]\n",
    "print(results.measurement_probabilities)\n",
    "\n",
    "# bitstrings\n",
    "format_bitstring = '{0:0' + str(2) + 'b}'\n",
    "bitstring_keys = [format_bitstring.format(ii) for ii in range(2**2)]\n",
    "    \n",
    "# plot probabalities\n",
    "plt.bar(bitstring_keys, probs_values);\n",
    "plt.xlabel('bitstrings');\n",
    "plt.ylabel('probability');\n",
    "plt.xticks(rotation=90);\n"
   ]
  },
  {
   "cell_type": "code",
   "execution_count": 116,
   "metadata": {},
   "outputs": [
    {
     "name": "stdout",
     "output_type": "stream",
     "text": [
      "Theta: 1.57 \n",
      "\n",
      "T  : |   0    |Result Types|\n",
      "                            \n",
      "q0 : -Rx(1.57)-Probability--\n",
      "               |            \n",
      "q1 : -Ry(1.57)-Probability--\n",
      "\n",
      "T  : |   0    |Result Types|\n",
      "{'00': 0.257, '10': 0.239, '01': 0.252, '11': 0.252}\n"
     ]
    },
    {
     "data": {
      "image/png": "[encoded data removed]",
      "text/plain": [
       "<Figure size 432x288 with 1 Axes>"
      ]
     },
     "metadata": {
      "needs_background": "light"
     },
     "output_type": "display_data"
    }
   ],
   "source": [
    "#Phase shift gates are single qubit operations along x,y,x axis \n",
    "## controlled shifts using cx,cy,cz\n",
    "\n",
    "import numpy as np \n",
    "\n",
    "circ=Circuit()\n",
    "\n",
    "theta = np.radians(90)   #shifting the qubit by pi/2\n",
    "   \n",
    "print('Theta:',round(theta,2),'\\n')\n",
    "\n",
    "circ.rx(0,theta)\n",
    "circ.ry(1,theta)\n",
    "circ.probability()\n",
    "print(circ)\n",
    "\n",
    "task=device.run(circ,shots=1000)\n",
    "results=task.result()\n",
    "\n",
    "probs_values=results.values[0]\n",
    "print(results.measurement_probabilities)\n",
    "\n",
    "# bitstrings\n",
    "format_bitstring = '{0:0' + str(2) + 'b}'\n",
    "bitstring_keys = [format_bitstring.format(ii) for ii in range(2**2)]\n",
    "    \n",
    "# plot probabalities\n",
    "plt.bar(bitstring_keys, probs_values);\n",
    "plt.xlabel('bitstrings');\n",
    "plt.ylabel('probability');\n",
    "plt.xticks(rotation=90);\n",
    "\n"
   ]
  },
  {
   "cell_type": "markdown",
   "metadata": {},
   "source": [
    "###### Braket Result Types\n",
    "\n",
    "* Amplitude\n",
    "* Expectation\n",
    "* Probability\n",
    "* State vector\n",
    "* Sample\n",
    "* Variance\n",
    "\n",
    "###### Here we demonstrate just sample type and calculate expectation out of sample results.\n",
    "    "
   ]
  },
  {
   "cell_type": "code",
   "execution_count": 120,
   "metadata": {},
   "outputs": [
    {
     "name": "stdout",
     "output_type": "stream",
     "text": [
      "T  : |0|1|Result Types|\n",
      "                     \n",
      "q0 : -H-C-Sample(X)----\n",
      "        |            \n",
      "q1 : -H-C-Sample(Y)----\n",
      "        |            \n",
      "q2 : ---X-Sample(Z)----\n",
      "\n",
      "T  : |0|1|Result Types|\n",
      "\n",
      "Results:\n",
      "X = 3.0\n",
      "Y = 1.0307692307692307\n",
      "Z = 0.8461538461538461\n"
     ]
    }
   ],
   "source": [
    "#Observables - real values that helps to measure the state of the system \n",
    "from braket.circuits import Observable\n",
    "circ=Circuit()\n",
    "\n",
    "circ.h(0)\n",
    "circ.h(1)\n",
    "circ.ccnot(0,1,2)\n",
    "\n",
    "circ.sample(observable=Observable.X(), target=0)\n",
    "circ.sample(observable=Observable.Y(), target=1)\n",
    "circ.sample(observable=Observable.Z(), target=2)\n",
    "\n",
    "print(circ)\n",
    "\n",
    "task=device.run(circ,shots=1000)\n",
    "result=task.result()\n",
    "\n",
    "print('\\nResults:')\n",
    "for label, res in zip(('X', 'Y', 'Z'), list(result.values)):\n",
    "    expectation = 1 - 2 * np.mean(res[result.measurements[:,0]==1])\n",
    "    print('{} = {}'.format(label, expectation))"
   ]
  },
  {
   "cell_type": "code",
   "execution_count": null,
   "metadata": {},
   "outputs": [],
   "source": []
  }
 ],
 "metadata": {
  "kernelspec": {
   "display_name": "Python 3",
   "language": "python",
   "name": "python3"
  },
  "language_info": {
   "codemirror_mode": {
    "name": "ipython",
    "version": 3
   },
   "file_extension": ".py",
   "mimetype": "text/x-python",
   "name": "python",
   "nbconvert_exporter": "python",
   "pygments_lexer": "ipython3",
   "version": "3.7.4"
  }
 },
 "nbformat": 4,
 "nbformat_minor": 2
}
